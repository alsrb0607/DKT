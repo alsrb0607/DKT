{
 "cells": [
  {
   "cell_type": "code",
   "execution_count": 1,
   "id": "6cadfd4f-75c8-4063-8c71-6de4f639b18d",
   "metadata": {},
   "outputs": [],
   "source": [
    "import pandas as pd\n",
    "import numpy as np"
   ]
  },
  {
   "cell_type": "code",
   "execution_count": 65,
   "id": "f7959530-bcc7-4f04-804f-f9f7c43a55f3",
   "metadata": {},
   "outputs": [],
   "source": [
    "en1 = pd.read_csv('ensemble/ensemble1.csv')\n",
    "en2 = pd.read_csv('ensemble/ensemble2.csv')\n",
    "en3 = pd.read_csv('ensemble/ensemble3.csv')\n",
    "en4 = pd.read_csv('ensemble/ensemble4.csv')\n",
    "en5 = pd.read_csv('ensemble/ensemble5.csv')\n",
    "en6 = pd.read_csv('ensemble/ensemble6.csv')\n",
    "# en2 = pd.read_csv('ensemble/ensemble5.csv')\n",
    "df1 = pd.read_csv('model/lstmattn_0.8116.csv')\n",
    "df2 = pd.read_csv('model/tabnet_0.8012.csv')\n",
    "df3 = pd.read_csv('model/ugcn_0.7846.csv')\n",
    "df4 = pd.read_csv('model/lgbm_0.7886.csv')\n",
    "df5 = pd.read_csv('model/lstmattn_0.8101.csv')\n",
    "df6 = pd.read_csv('model/lstmattn_0.8077.csv')\n",
    "df7 = pd.read_csv('model/tabnet_0.7979.csv')\n",
    "df8 = pd.read_csv('model/lstmattn_0.8028.csv')\n",
    "df9 = pd.read_csv('model/lstmattn_0.8019.csv')\n",
    "df10 = pd.read_csv('model/lstmattn_0.8002.csv')\n",
    "df11 = pd.read_csv('model/tabnet_0.7996.csv')\n",
    "for k,df in enumerate([df1,df2,df3,df4,df5,df6,df7,df8,df9,df10,df11]):\n",
    "    df['rank']=df['prediction'].rank(axis=0, method='average',na_option='keep')\n",
    "for k,df in enumerate([en1,en2,en3,en4,en5,en6]):\n",
    "    df['rank']=df['prediction'].rank(axis=0, method='average',na_option='keep')"
   ]
  },
  {
   "cell_type": "code",
   "execution_count": 106,
   "id": "b23ff661-eef2-4600-a586-bd78c70a5bcf",
   "metadata": {},
   "outputs": [
    {
     "data": {
      "text/plain": [
       "27.620967741935484"
      ]
     },
     "execution_count": 106,
     "metadata": {},
     "output_type": "execute_result"
    }
   ],
   "source": [
    "# 0.8083\n",
    "ans = []\n",
    "num=2\n",
    "for i in range(len(df1)):\n",
    "    c=0\n",
    "    tmp = []\n",
    "    for k,df in enumerate([en3,en5]):\n",
    "        rank = df['rank'][i]\n",
    "        tmp.append(rank)\n",
    "    ma = np.max(tmp)\n",
    "    mi = np.min(tmp)\n",
    "    tmp2= ma-mi\n",
    "    ans.append(tmp2)\n",
    "average = np.mean(ans)\n",
    "average"
   ]
  },
  {
   "cell_type": "code",
   "execution_count": null,
   "id": "fe3a3298-991b-4965-9bf8-c5c38684d28c",
   "metadata": {},
   "outputs": [],
   "source": []
  },
  {
   "cell_type": "code",
   "execution_count": null,
   "id": "d1961c1a-0d8b-4a68-8768-07976aff5fe1",
   "metadata": {},
   "outputs": [],
   "source": []
  }
 ],
 "metadata": {
  "kernelspec": {
   "display_name": "Python 3 (ipykernel)",
   "language": "python",
   "name": "python3"
  },
  "language_info": {
   "codemirror_mode": {
    "name": "ipython",
    "version": 3
   },
   "file_extension": ".py",
   "mimetype": "text/x-python",
   "name": "python",
   "nbconvert_exporter": "python",
   "pygments_lexer": "ipython3",
   "version": "3.8.5"
  }
 },
 "nbformat": 4,
 "nbformat_minor": 5
}
